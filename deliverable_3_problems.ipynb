{
 "cells": [
  {
   "cell_type": "markdown",
   "metadata": {},
   "source": [
    "#### Carnegie Mellon University - Tepper School of Business\n",
    "#### 46-886 - Machine Learning Fundamentals\n",
    "#### 22/23 - Mini 4 - Section M4 - Farahat\n",
    "---"
   ]
  },
  {
   "cell_type": "markdown",
   "metadata": {},
   "source": [
    "## Deliverable 3 \n",
    "**Due Wednesday, April 12th at 2:59 a.m. Pittsburgh time**"
   ]
  },
  {
   "cell_type": "markdown",
   "metadata": {},
   "source": [
    "**This is  team assignment**. Please provide below the names of all team members who have contributed to this deliverable:\n",
    "\n",
    "- Name of team member 1:\n",
    "- Name of team member 2:\n",
    "- Name of team member 3:\n",
    "- Name of team member 4:\n",
    "- Name of team member 5 (if applicable):\n",
    "---"
   ]
  },
  {
   "cell_type": "markdown",
   "metadata": {},
   "source": [
    "*This deliverable consists of **one** problem of several parts. Each part requires you to code in **Python** and answer one or more questions. Save a copy of this notebook and provide your solution by inserting code or Markdown text cells as appropriate.*\n",
    "\n",
    "*You will need to submit two files through Canvas: 1) a completed Jupyter notebook (extension .ipynb) with your code and answers to each question (this file); and 2) an html rendering of your completed Jupyter notebook. Only one team member needs to submit the files on Canvas on behalf of the rest of the team.*"
   ]
  },
  {
   "cell_type": "markdown",
   "metadata": {},
   "source": [
    "### Problem 1 - Predicting House Prices in Ames, Iowa (100 points)"
   ]
  },
  {
   "cell_type": "markdown",
   "metadata": {},
   "source": [
    "We consider the Ames, Iowa Housing Prices dataset, which describes sales of 2,818 properties in the town of Ames, Iowa from 2006 to 2010<a name=\"cite_ref-1\"></a>[<sup>[1]</sup>](#cite_note-1). Work with the dataset provided in the ames.csv file. This file has been pre-processed to simplify the analysis. The file contains 73 variables, described on the last page of this handout. The first variable characterizes the property's sale price -- which we aim to predict. The other variables describe the property in detail, both in quantitative terms (square footage, size of the lot, number of rooms, date of construction, etc.) and qualitative terms (building materials, style of the home, etc.). \n",
    "\n",
    "<a name=\"cite_note-1\"></a> [1](#cite_ref-1) De Cock, Dean. “Ames, Iowa: Alternative to the Boston housing data as an end of semester regression project.” Journal of Statistics Education, 19.3 (2011)."
   ]
  },
  {
   "cell_type": "markdown",
   "metadata": {},
   "source": [
    "In this problem, you will compare three predictive analytics methods: linear regression, CART, and random forest."
   ]
  },
  {
   "cell_type": "markdown",
   "metadata": {},
   "source": [
    "First, import the dataset and create a **80-20** train-test split. Use **886** as the random seed throughout your code. "
   ]
  },
  {
   "cell_type": "markdown",
   "metadata": {},
   "source": [
    "#### Part (a) [15pts]\n",
    "\n",
    "Construct a linear regression model on the training set. You can use all the variables in he dataset (that is, do not worry about issues of multi-collinearity or variable selection). What is the in-sample and out-of-sample R-squared for this model?\n"
   ]
  },
  {
   "cell_type": "markdown",
   "metadata": {},
   "source": [
    "#### Part (b) [15pts]\n",
    "\n",
    "Train a CART model with max_depth set to 3 and without changing any other default parameters. Use a random_state value equal to 886."
   ]
  },
  {
   "cell_type": "markdown",
   "metadata": {},
   "source": [
    "#### Part (c) [10pts]\n",
    "\n",
    "A friend of yours is looking to sell her home in Ames, Iowa and has called you for advice. The house does not have a central air conditioning system. She is wondering whether it would be worth to have one installed in order to increase the value of her home (at a cost of $15,000). What would your recommendation be based on your CART model and what does this say about the model? "
   ]
  },
  {
   "cell_type": "markdown",
   "metadata": {},
   "source": [
    "#### Part (d) [25pts]\n",
    "\n",
    "Use **10-fold** cross-validation to select a good max_depth value for your tree and then fit your final model. Consider max_depth values from 2 to 10. What is the in-sample and out-of-sample R-squared for the selected model (fitted on the entire train set)? Use \"r2\" as the scoring method."
   ]
  },
  {
   "cell_type": "markdown",
   "metadata": {},
   "source": [
    "#### Part (e) [25pts]\n",
    "\n",
    "Construct a random forest model with **1000** trees. Leave other hyperparameters at the default values. What is the in-sample and out-of-sample R-squared for the selected model? Again use a random_state equal to 886."
   ]
  },
  {
   "cell_type": "markdown",
   "metadata": {},
   "source": [
    "#### Part (f) [10pts]\n",
    "\n",
    "Which of the four models you constructed in parts (a), (b), (d), and (e) would you recommend? Make sure to justify your choice and to discuss the strengths and limitations of the models.  "
   ]
  },
  {
   "cell_type": "markdown",
   "metadata": {},
   "source": [
    "### END"
   ]
  }
 ],
 "metadata": {
  "colab": {
   "collapsed_sections": [
    "cbEQlIplwY5k",
    "EBUEG5-Cnglm",
    "HBHgRvCEzJAD",
    "IeWbEvilxC5P",
    "Rhly7BwrzPdf",
    "neI3PXRV5Y5f",
    "t5h7PZ-Q6L09",
    "0Nlsk4V16P08",
    "fnWLIf0r_POH",
    "rnvyAlV5_mMz",
    "OQk3oN_T_yl2",
    "2FCZXiuY_uIf",
    "GS1h4S8LvHyJ"
   ],
   "name": "2021_10_01_meeting.ipynb",
   "provenance": []
  },
  "finalized": {
   "timestamp": 1653670308085,
   "trusted": true
  },
  "kernelspec": {
   "display_name": "Python 3 (ipykernel)",
   "language": "python",
   "name": "python3"
  },
  "language_info": {
   "codemirror_mode": {
    "name": "ipython",
    "version": 3
   },
   "file_extension": ".py",
   "mimetype": "text/x-python",
   "name": "python",
   "nbconvert_exporter": "python",
   "pygments_lexer": "ipython3",
   "version": "3.9.13"
  }
 },
 "nbformat": 4,
 "nbformat_minor": 4
}
